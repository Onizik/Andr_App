{
 "cells": [
  {
   "cell_type": "markdown",
   "metadata": {},
   "source": [
    "некая база, тут используются одна библиотека, ну скоро все перепишу, под обычные запросы, чтобы быть чуть более платформо-независимым"
   ]
  },
  {
   "cell_type": "code",
   "execution_count": 1,
   "metadata": {
    "collapsed": true
   },
   "outputs": [],
   "source": [
    "import vk_api"
   ]
  },
  {
   "cell_type": "code",
   "execution_count": 2,
   "metadata": {
    "collapsed": true
   },
   "outputs": [],
   "source": [
    "login = \"+79061972854\"\n",
    "password = \"lagazagy1\""
   ]
  },
  {
   "cell_type": "code",
   "execution_count": 3,
   "metadata": {
    "collapsed": true
   },
   "outputs": [],
   "source": [
    "session = vk_api.VkApi(login, password)\n",
    "session.auth()"
   ]
  },
  {
   "cell_type": "code",
   "execution_count": 4,
   "metadata": {
    "collapsed": true
   },
   "outputs": [],
   "source": [
    "vk = session.get_api()"
   ]
  },
  {
   "cell_type": "code",
   "execution_count": 5,
   "metadata": {},
   "outputs": [
    {
     "data": {
      "text/plain": [
       "{'count': 17,\n",
       " 'items': [{'can_delete': 1,\n",
       "   'can_pin': 1,\n",
       "   'comments': {'can_post': 1, 'count': 0, 'groups_can_post': True},\n",
       "   'copy_history': [{'attachments': [{'photo': {'access_key': '04ef4ac425840d66b5',\n",
       "        'album_id': -7,\n",
       "        'date': 1502618163,\n",
       "        'height': 361,\n",
       "        'id': 456239031,\n",
       "        'owner_id': -106947877,\n",
       "        'photo_130': 'https://pp.userapi.com/c836134/v836134675/51a9f/Ms2tCrvoJ48.jpg',\n",
       "        'photo_604': 'https://pp.userapi.com/c836134/v836134675/51aa0/QiLCZrrfhTI.jpg',\n",
       "        'photo_75': 'https://pp.userapi.com/c836134/v836134675/51a9e/Snpc8ewwh9Q.jpg',\n",
       "        'text': '',\n",
       "        'user_id': 100,\n",
       "        'width': 500},\n",
       "       'type': 'photo'}],\n",
       "     'date': 1502618163,\n",
       "     'from_id': -106947877,\n",
       "     'id': 161,\n",
       "     'owner_id': -106947877,\n",
       "     'post_source': {'platform': 'android', 'type': 'api'},\n",
       "     'post_type': 'post',\n",
       "     'text': 'Пиво в руке не залог успеха - оно его следствие.\\n#пивная_неделя'}],\n",
       "   'date': 1503216973,\n",
       "   'from_id': 49712574,\n",
       "   'id': 2101,\n",
       "   'likes': {'can_like': 1, 'can_publish': 0, 'count': 0, 'user_likes': 0},\n",
       "   'owner_id': 49712574,\n",
       "   'post_source': {'platform': 'android', 'type': 'api'},\n",
       "   'post_type': 'post',\n",
       "   'reposts': {'count': 0, 'user_reposted': 0},\n",
       "   'text': '',\n",
       "   'views': {'count': 220}}]}"
      ]
     },
     "execution_count": 5,
     "metadata": {},
     "output_type": "execute_result"
    }
   ],
   "source": [
    "vk.wall.get(count=1)"
   ]
  },
  {
   "cell_type": "code",
   "execution_count": 7,
   "metadata": {},
   "outputs": [
    {
     "data": {
      "text/plain": [
       "183303"
      ]
     },
     "execution_count": 7,
     "metadata": {},
     "output_type": "execute_result"
    }
   ],
   "source": [
    "vk.messages.send(chat_id=32, message=\"сообщение\")"
   ]
  },
  {
   "cell_type": "code",
   "execution_count": null,
   "metadata": {
    "collapsed": true
   },
   "outputs": [],
   "source": [
    "vk.messages.getDialogs()\n",
    "#получить все диалоги (от туда и брать chat_id)"
   ]
  }
 ],
 "metadata": {
  "kernelspec": {
   "display_name": "Python 3",
   "language": "python",
   "name": "python3"
  },
  "language_info": {
   "codemirror_mode": {
    "name": "ipython",
    "version": 3
   },
   "file_extension": ".py",
   "mimetype": "text/x-python",
   "name": "python",
   "nbconvert_exporter": "python",
   "pygments_lexer": "ipython3",
   "version": "3.6.3"
  }
 },
 "nbformat": 4,
 "nbformat_minor": 2
}
